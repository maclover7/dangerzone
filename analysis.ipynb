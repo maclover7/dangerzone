{
 "cells": [
  {
   "cell_type": "markdown",
   "id": "5699bee7-3702-4227-8a9b-b326bfac2aa5",
   "metadata": {},
   "source": [
    "# Analyze FSF report"
   ]
  },
  {
   "cell_type": "code",
   "execution_count": 1,
   "id": "9a9e937c-720f-4233-8d08-e7879bdc5a47",
   "metadata": {},
   "outputs": [],
   "source": [
    "import geopandas as gpd\n",
    "import pandas as pd"
   ]
  },
  {
   "cell_type": "markdown",
   "id": "a91c4ba4-604b-43e1-9d1c-c9c01986b50c",
   "metadata": {},
   "source": [
    "### Import, merge city and county reports"
   ]
  },
  {
   "cell_type": "code",
   "execution_count": 2,
   "id": "8f0c0757-84a3-4619-8109-487943cb9505",
   "metadata": {},
   "outputs": [],
   "source": [
    "report = pd.concat([\n",
    "    pd.read_csv('input/fsf-pa-county.csv').rename(columns={'County Name': 'Name'}),\n",
    "    pd.read_csv('input/fsf-pa-place.csv').rename(columns={'City Name': 'Name'})\n",
    "])"
   ]
  },
  {
   "cell_type": "markdown",
   "id": "5b5a60ac-02b0-4061-b17d-7c7e18ead3be",
   "metadata": {},
   "source": [
    "### Import Alleco municipalities"
   ]
  },
  {
   "cell_type": "code",
   "execution_count": 3,
   "id": "6bc27dbd-f232-4dec-a8c3-c1ce4c5fb3de",
   "metadata": {},
   "outputs": [],
   "source": [
    "muni = gpd.read_file('input/county-muni.geojson')\n",
    "muni['FIPS'] = muni.FIPS + 4200000"
   ]
  },
  {
   "cell_type": "code",
   "execution_count": 4,
   "id": "bd58344a-851b-4dd3-a48c-59345dadf1c7",
   "metadata": {},
   "outputs": [],
   "source": [
    "dup_muni_names = muni[muni.duplicated(subset='NAME')].NAME.unique()\n",
    "\n",
    "muni.loc[\n",
    "    (muni.NAME.isin(dup_muni_names)) & (muni.TYPE == 'BOROUGH'),\n",
    "    'NAME'\n",
    "] = muni.NAME + ' BR'\n",
    "\n",
    "muni.loc[\n",
    "    (muni.NAME.isin(dup_muni_names)) & (muni.TYPE == 'TOWNSHIP'),\n",
    "    'NAME'\n",
    "] = muni.NAME + ' TP'"
   ]
  },
  {
   "cell_type": "markdown",
   "id": "61384c9c-07f1-448a-9230-4a994edb3b6b",
   "metadata": {},
   "source": [
    "### Filter report to Alleco and its municipalities"
   ]
  },
  {
   "cell_type": "code",
   "execution_count": 5,
   "id": "28ae8407-0fc7-4541-9d9a-39be52ed8d5b",
   "metadata": {},
   "outputs": [],
   "source": [
    "report = report[(report.fips == 42003) | (report.fips.isin(muni.FIPS))]"
   ]
  },
  {
   "cell_type": "markdown",
   "id": "d0368937-5ee0-41d7-9f11-a5cdba45b39b",
   "metadata": {},
   "source": [
    "### Convert one-hour precipitation millimeters to inches"
   ]
  },
  {
   "cell_type": "code",
   "execution_count": 6,
   "id": "636125c3-3ed0-4f9a-8951-382e48051b19",
   "metadata": {},
   "outputs": [],
   "source": [
    "report['Depth_1in100_NOAA'] = report.Depth_1in100_NOAA / 25.4\n",
    "report['Depth_1in100_FSF2023'] = report.Depth_1in100_FSF2023 / 25.4"
   ]
  },
  {
   "cell_type": "markdown",
   "id": "d1ca9619-9eb8-48a6-8f82-4a05bc68b01a",
   "metadata": {},
   "source": [
    "### One-hour precipitation for Alleco, PGH"
   ]
  },
  {
   "cell_type": "code",
   "execution_count": 7,
   "id": "09bcae25-d260-4a75-bdc8-ec2c0c23f6a7",
   "metadata": {},
   "outputs": [
    {
     "data": {
      "text/html": [
       "<div>\n",
       "<style scoped>\n",
       "    .dataframe tbody tr th:only-of-type {\n",
       "        vertical-align: middle;\n",
       "    }\n",
       "\n",
       "    .dataframe tbody tr th {\n",
       "        vertical-align: top;\n",
       "    }\n",
       "\n",
       "    .dataframe thead th {\n",
       "        text-align: right;\n",
       "    }\n",
       "</style>\n",
       "<table border=\"1\" class=\"dataframe\">\n",
       "  <thead>\n",
       "    <tr style=\"text-align: right;\">\n",
       "      <th></th>\n",
       "      <th>Name</th>\n",
       "      <th>Depth_1in100_NOAA</th>\n",
       "      <th>Depth_1in100_FSF2023</th>\n",
       "      <th>depth_pctchange</th>\n",
       "    </tr>\n",
       "  </thead>\n",
       "  <tbody>\n",
       "    <tr>\n",
       "      <th>1</th>\n",
       "      <td>Allegheny</td>\n",
       "      <td>2.559055</td>\n",
       "      <td>3.574803</td>\n",
       "      <td>0.396923</td>\n",
       "    </tr>\n",
       "    <tr>\n",
       "      <th>1299</th>\n",
       "      <td>Pittsburgh</td>\n",
       "      <td>2.559055</td>\n",
       "      <td>3.736220</td>\n",
       "      <td>0.460000</td>\n",
       "    </tr>\n",
       "  </tbody>\n",
       "</table>\n",
       "</div>"
      ],
      "text/plain": [
       "            Name  Depth_1in100_NOAA  Depth_1in100_FSF2023  depth_pctchange\n",
       "1      Allegheny           2.559055              3.574803         0.396923\n",
       "1299  Pittsburgh           2.559055              3.736220         0.460000"
      ]
     },
     "execution_count": 7,
     "metadata": {},
     "output_type": "execute_result"
    }
   ],
   "source": [
    "report['depth_pctchange'] = report[['Depth_1in100_NOAA', 'Depth_1in100_FSF2023']].pct_change(axis=1)['Depth_1in100_FSF2023']\n",
    "report[report.fips.isin([42003, 4261000])][['Name', 'Depth_1in100_NOAA', 'Depth_1in100_FSF2023', 'depth_pctchange']]"
   ]
  },
  {
   "cell_type": "markdown",
   "id": "dcaec01d-e689-4b30-9a80-12e31eef4013",
   "metadata": {},
   "source": [
    "### 1% storm frequency for Alleco, PGH"
   ]
  },
  {
   "cell_type": "code",
   "execution_count": 8,
   "id": "ee93b394-00b6-48c0-99b2-9dc052733efb",
   "metadata": {},
   "outputs": [
    {
     "data": {
      "text/html": [
       "<div>\n",
       "<style scoped>\n",
       "    .dataframe tbody tr th:only-of-type {\n",
       "        vertical-align: middle;\n",
       "    }\n",
       "\n",
       "    .dataframe tbody tr th {\n",
       "        vertical-align: top;\n",
       "    }\n",
       "\n",
       "    .dataframe thead th {\n",
       "        text-align: right;\n",
       "    }\n",
       "</style>\n",
       "<table border=\"1\" class=\"dataframe\">\n",
       "  <thead>\n",
       "    <tr style=\"text-align: right;\">\n",
       "      <th></th>\n",
       "      <th>Name</th>\n",
       "      <th>RP_1in100_NOAA</th>\n",
       "      <th>RP_1in100_FSF2023</th>\n",
       "      <th>100yrfreq_change</th>\n",
       "    </tr>\n",
       "  </thead>\n",
       "  <tbody>\n",
       "    <tr>\n",
       "      <th>1</th>\n",
       "      <td>Allegheny</td>\n",
       "      <td>100</td>\n",
       "      <td>25.3</td>\n",
       "      <td>3.952569</td>\n",
       "    </tr>\n",
       "    <tr>\n",
       "      <th>1299</th>\n",
       "      <td>Pittsburgh</td>\n",
       "      <td>100</td>\n",
       "      <td>20.3</td>\n",
       "      <td>4.926108</td>\n",
       "    </tr>\n",
       "  </tbody>\n",
       "</table>\n",
       "</div>"
      ],
      "text/plain": [
       "            Name  RP_1in100_NOAA  RP_1in100_FSF2023  100yrfreq_change\n",
       "1      Allegheny             100               25.3          3.952569\n",
       "1299  Pittsburgh             100               20.3          4.926108"
      ]
     },
     "execution_count": 8,
     "metadata": {},
     "output_type": "execute_result"
    }
   ],
   "source": [
    "report['RP_1in100_NOAA'] = 100\n",
    "report['100yrfreq_change'] = report.RP_1in100_NOAA / report.RP_1in100_FSF2023\n",
    "report[report.fips.isin([42003, 4261000])][['Name', 'RP_1in100_NOAA', 'RP_1in100_FSF2023', '100yrfreq_change']]"
   ]
  },
  {
   "cell_type": "markdown",
   "id": "ebd338e5-593c-45fb-ad57-094c041e8a75",
   "metadata": {},
   "source": [
    "### 1% storm property flood risk for Alleco, PGH"
   ]
  },
  {
   "cell_type": "code",
   "execution_count": 9,
   "id": "f29a51e8-b0b0-472a-b826-bdd5c5552210",
   "metadata": {},
   "outputs": [
    {
     "data": {
      "text/html": [
       "<div>\n",
       "<style scoped>\n",
       "    .dataframe tbody tr th:only-of-type {\n",
       "        vertical-align: middle;\n",
       "    }\n",
       "\n",
       "    .dataframe tbody tr th {\n",
       "        vertical-align: top;\n",
       "    }\n",
       "\n",
       "    .dataframe thead th {\n",
       "        text-align: right;\n",
       "    }\n",
       "</style>\n",
       "<table border=\"1\" class=\"dataframe\">\n",
       "  <thead>\n",
       "    <tr style=\"text-align: right;\">\n",
       "      <th></th>\n",
       "      <th>Name</th>\n",
       "      <th>Properties in SFHA</th>\n",
       "      <th>Properties in FSF 100 Year Zone, 2023</th>\n",
       "      <th>100yrpropcount_pctchange</th>\n",
       "      <th>100yrpropriskpct_pctchange</th>\n",
       "    </tr>\n",
       "  </thead>\n",
       "  <tbody>\n",
       "    <tr>\n",
       "      <th>1</th>\n",
       "      <td>Allegheny</td>\n",
       "      <td>1752</td>\n",
       "      <td>85546</td>\n",
       "      <td>47.827626</td>\n",
       "      <td>47.827626</td>\n",
       "    </tr>\n",
       "    <tr>\n",
       "      <th>1299</th>\n",
       "      <td>Pittsburgh</td>\n",
       "      <td>216</td>\n",
       "      <td>21797</td>\n",
       "      <td>99.912037</td>\n",
       "      <td>99.912037</td>\n",
       "    </tr>\n",
       "  </tbody>\n",
       "</table>\n",
       "</div>"
      ],
      "text/plain": [
       "            Name  Properties in SFHA  Properties in FSF 100 Year Zone, 2023  \\\n",
       "1      Allegheny                1752                                  85546   \n",
       "1299  Pittsburgh                 216                                  21797   \n",
       "\n",
       "      100yrpropcount_pctchange  100yrpropriskpct_pctchange  \n",
       "1                    47.827626                   47.827626  \n",
       "1299                 99.912037                   99.912037  "
      ]
     },
     "execution_count": 9,
     "metadata": {},
     "output_type": "execute_result"
    }
   ],
   "source": [
    "report['100yrpropriskpct_sfha'] = report['Properties in SFHA'] / report['Total Properties']\n",
    "report['100yrpropriskpct_fsf'] = report['Properties in FSF 100 Year Zone, 2023'] / report['Total Properties']\n",
    "report['100yrpropriskpct_pctchange'] = report[['100yrpropriskpct_sfha', '100yrpropriskpct_fsf']].pct_change(axis=1)['100yrpropriskpct_fsf']\n",
    "\n",
    "report['100yrpropcount_pctchange'] = report[['Properties in SFHA', 'Properties in FSF 100 Year Zone, 2023']].pct_change(axis=1)['Properties in FSF 100 Year Zone, 2023']\n",
    "report[report.fips.isin([42003, 4261000])][['Name', 'Properties in SFHA', 'Properties in FSF 100 Year Zone, 2023', '100yrpropcount_pctchange', '100yrpropriskpct_pctchange']]"
   ]
  },
  {
   "cell_type": "markdown",
   "id": "e14aa3e1-d9ec-41bb-a8ab-743ea8c6ca24",
   "metadata": {},
   "source": [
    "### 1% storm property flood risk for all Alleco municipalities"
   ]
  },
  {
   "cell_type": "code",
   "execution_count": 10,
   "id": "d816c4a6-627f-4378-b2c7-17d34de8383d",
   "metadata": {
    "scrolled": true
   },
   "outputs": [
    {
     "data": {
      "text/html": [
       "<div>\n",
       "<style scoped>\n",
       "    .dataframe tbody tr th:only-of-type {\n",
       "        vertical-align: middle;\n",
       "    }\n",
       "\n",
       "    .dataframe tbody tr th {\n",
       "        vertical-align: top;\n",
       "    }\n",
       "\n",
       "    .dataframe thead th {\n",
       "        text-align: right;\n",
       "    }\n",
       "</style>\n",
       "<table border=\"1\" class=\"dataframe\">\n",
       "  <thead>\n",
       "    <tr style=\"text-align: right;\">\n",
       "      <th></th>\n",
       "      <th>Name</th>\n",
       "      <th>Properties in SFHA</th>\n",
       "      <th>Properties in FSF 100 Year Zone, 2023</th>\n",
       "      <th>100yrpropriskpct_pctchange</th>\n",
       "      <th>100yrpropriskpct_sfha</th>\n",
       "      <th>100yrpropriskpct_fsf</th>\n",
       "    </tr>\n",
       "  </thead>\n",
       "  <tbody>\n",
       "    <tr>\n",
       "      <th>1783</th>\n",
       "      <td>West Elizabeth</td>\n",
       "      <td>0</td>\n",
       "      <td>311</td>\n",
       "      <td>inf</td>\n",
       "      <td>0.000000</td>\n",
       "      <td>0.948171</td>\n",
       "    </tr>\n",
       "    <tr>\n",
       "      <th>1501</th>\n",
       "      <td>Sharpsburg</td>\n",
       "      <td>2</td>\n",
       "      <td>1442</td>\n",
       "      <td>720.000000</td>\n",
       "      <td>0.001281</td>\n",
       "      <td>0.923767</td>\n",
       "    </tr>\n",
       "    <tr>\n",
       "      <th>883</th>\n",
       "      <td>Leetsdale</td>\n",
       "      <td>1</td>\n",
       "      <td>572</td>\n",
       "      <td>571.000000</td>\n",
       "      <td>0.001304</td>\n",
       "      <td>0.745763</td>\n",
       "    </tr>\n",
       "    <tr>\n",
       "      <th>469</th>\n",
       "      <td>Edgeworth</td>\n",
       "      <td>0</td>\n",
       "      <td>473</td>\n",
       "      <td>inf</td>\n",
       "      <td>0.000000</td>\n",
       "      <td>0.657858</td>\n",
       "    </tr>\n",
       "    <tr>\n",
       "      <th>628</th>\n",
       "      <td>Glenfield</td>\n",
       "      <td>0</td>\n",
       "      <td>121</td>\n",
       "      <td>inf</td>\n",
       "      <td>0.000000</td>\n",
       "      <td>0.650538</td>\n",
       "    </tr>\n",
       "    <tr>\n",
       "      <th>1044</th>\n",
       "      <td>Millvale</td>\n",
       "      <td>41</td>\n",
       "      <td>1247</td>\n",
       "      <td>29.414634</td>\n",
       "      <td>0.021222</td>\n",
       "      <td>0.645445</td>\n",
       "    </tr>\n",
       "    <tr>\n",
       "      <th>699</th>\n",
       "      <td>Haysville</td>\n",
       "      <td>0</td>\n",
       "      <td>45</td>\n",
       "      <td>inf</td>\n",
       "      <td>0.000000</td>\n",
       "      <td>0.555556</td>\n",
       "    </tr>\n",
       "    <tr>\n",
       "      <th>53</th>\n",
       "      <td>Aspinwall</td>\n",
       "      <td>0</td>\n",
       "      <td>618</td>\n",
       "      <td>inf</td>\n",
       "      <td>0.000000</td>\n",
       "      <td>0.549822</td>\n",
       "    </tr>\n",
       "    <tr>\n",
       "      <th>954</th>\n",
       "      <td>McKees Rocks</td>\n",
       "      <td>190</td>\n",
       "      <td>1515</td>\n",
       "      <td>6.973684</td>\n",
       "      <td>0.063909</td>\n",
       "      <td>0.509586</td>\n",
       "    </tr>\n",
       "    <tr>\n",
       "      <th>1837</th>\n",
       "      <td>Wilmerding</td>\n",
       "      <td>0</td>\n",
       "      <td>447</td>\n",
       "      <td>inf</td>\n",
       "      <td>0.000000</td>\n",
       "      <td>0.502812</td>\n",
       "    </tr>\n",
       "  </tbody>\n",
       "</table>\n",
       "</div>"
      ],
      "text/plain": [
       "                Name  Properties in SFHA  \\\n",
       "1783  West Elizabeth                   0   \n",
       "1501      Sharpsburg                   2   \n",
       "883        Leetsdale                   1   \n",
       "469        Edgeworth                   0   \n",
       "628        Glenfield                   0   \n",
       "1044        Millvale                  41   \n",
       "699        Haysville                   0   \n",
       "53         Aspinwall                   0   \n",
       "954     McKees Rocks                 190   \n",
       "1837      Wilmerding                   0   \n",
       "\n",
       "      Properties in FSF 100 Year Zone, 2023  100yrpropriskpct_pctchange  \\\n",
       "1783                                    311                         inf   \n",
       "1501                                   1442                  720.000000   \n",
       "883                                     572                  571.000000   \n",
       "469                                     473                         inf   \n",
       "628                                     121                         inf   \n",
       "1044                                   1247                   29.414634   \n",
       "699                                      45                         inf   \n",
       "53                                      618                         inf   \n",
       "954                                    1515                    6.973684   \n",
       "1837                                    447                         inf   \n",
       "\n",
       "      100yrpropriskpct_sfha  100yrpropriskpct_fsf  \n",
       "1783               0.000000              0.948171  \n",
       "1501               0.001281              0.923767  \n",
       "883                0.001304              0.745763  \n",
       "469                0.000000              0.657858  \n",
       "628                0.000000              0.650538  \n",
       "1044               0.021222              0.645445  \n",
       "699                0.000000              0.555556  \n",
       "53                 0.000000              0.549822  \n",
       "954                0.063909              0.509586  \n",
       "1837               0.000000              0.502812  "
      ]
     },
     "execution_count": 10,
     "metadata": {},
     "output_type": "execute_result"
    }
   ],
   "source": [
    "report[report.fips.isin(muni.FIPS)][[\n",
    "    'Name',\n",
    "    'Properties in SFHA',\n",
    "    'Properties in FSF 100 Year Zone, 2023',\n",
    "    '100yrpropriskpct_pctchange',\n",
    "    '100yrpropriskpct_sfha',\n",
    "    '100yrpropriskpct_fsf'\n",
    "]].sort_values(by='100yrpropriskpct_fsf', ascending=False).head(10)"
   ]
  },
  {
   "cell_type": "markdown",
   "id": "e7a1a393-048e-4f96-9306-43fc45654d99",
   "metadata": {},
   "source": [
    "### Save Alleco municipalities list for Datawrapper"
   ]
  },
  {
   "cell_type": "code",
   "execution_count": 11,
   "id": "a85eb5fa-c894-4c90-a06c-68e4f2a2028d",
   "metadata": {},
   "outputs": [],
   "source": [
    "muni.to_file('output/county-muni.geojson', driver='GeoJSON')"
   ]
  },
  {
   "cell_type": "markdown",
   "id": "9a6916fa-df94-45e5-b8b5-f14faeb2765f",
   "metadata": {},
   "source": [
    "### Save 1% storm property flood risk for Alleco municipalities for Datawrapper"
   ]
  },
  {
   "cell_type": "code",
   "execution_count": 12,
   "id": "f733fad2-b386-4e51-8400-14c2bbfc0ea1",
   "metadata": {},
   "outputs": [],
   "source": [
    "pd.merge(\n",
    "    report[[\n",
    "        'fips',\n",
    "        'Properties in SFHA',\n",
    "        'Properties in FSF 100 Year Zone, 2023',\n",
    "        '100yrpropriskpct_pctchange',\n",
    "        '100yrpropriskpct_sfha',\n",
    "        '100yrpropriskpct_fsf'\n",
    "    ]],\n",
    "    muni[['NAME', 'FIPS']],\n",
    "    left_on='fips',\n",
    "    right_on='FIPS'\n",
    ").to_csv('output/county-muni-proprisk.csv', index=False)"
   ]
  }
 ],
 "metadata": {
  "kernelspec": {
   "display_name": "Python 3 (ipykernel)",
   "language": "python",
   "name": "python3"
  },
  "language_info": {
   "codemirror_mode": {
    "name": "ipython",
    "version": 3
   },
   "file_extension": ".py",
   "mimetype": "text/x-python",
   "name": "python",
   "nbconvert_exporter": "python",
   "pygments_lexer": "ipython3",
   "version": "3.9.17"
  }
 },
 "nbformat": 4,
 "nbformat_minor": 5
}
