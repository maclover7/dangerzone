{
 "cells": [
  {
   "cell_type": "markdown",
   "id": "5699bee7-3702-4227-8a9b-b326bfac2aa5",
   "metadata": {},
   "source": [
    "# Analyze FSF report"
   ]
  },
  {
   "cell_type": "code",
   "execution_count": 1,
   "id": "9a9e937c-720f-4233-8d08-e7879bdc5a47",
   "metadata": {},
   "outputs": [],
   "source": [
    "import pandas as pd"
   ]
  },
  {
   "cell_type": "markdown",
   "id": "a91c4ba4-604b-43e1-9d1c-c9c01986b50c",
   "metadata": {},
   "source": [
    "### Import, merge city and county reports"
   ]
  },
  {
   "cell_type": "code",
   "execution_count": 2,
   "id": "8f0c0757-84a3-4619-8109-487943cb9505",
   "metadata": {},
   "outputs": [],
   "source": [
    "report = pd.concat([\n",
    "    pd.read_excel('input/FSFdata.xlsx', sheet_name='County Data').rename(columns={'County Name': 'Name'}),\n",
    "    pd.read_excel('input/FSFdata.xlsx', sheet_name='City Data').rename(columns={'City Name': 'Name'})\n",
    "])"
   ]
  },
  {
   "cell_type": "code",
   "execution_count": 3,
   "id": "28ae8407-0fc7-4541-9d9a-39be52ed8d5b",
   "metadata": {},
   "outputs": [],
   "source": [
    "report = report[report.fips.isin([42003, 4261000])]"
   ]
  },
  {
   "cell_type": "markdown",
   "id": "d0368937-5ee0-41d7-9f11-a5cdba45b39b",
   "metadata": {},
   "source": [
    "### Convert one-hour precipitation millimeters to inches"
   ]
  },
  {
   "cell_type": "code",
   "execution_count": 4,
   "id": "636125c3-3ed0-4f9a-8951-382e48051b19",
   "metadata": {},
   "outputs": [],
   "source": [
    "report['Depth_1in100_NOAA'] = report.Depth_1in100_NOAA / 25.4\n",
    "report['Depth_1in100_FSF2023'] = report.Depth_1in100_FSF2023 / 25.4"
   ]
  },
  {
   "cell_type": "markdown",
   "id": "d1ca9619-9eb8-48a6-8f82-4a05bc68b01a",
   "metadata": {},
   "source": [
    "### One-hour precipitation for Alleco, PGH"
   ]
  },
  {
   "cell_type": "code",
   "execution_count": 5,
   "id": "09bcae25-d260-4a75-bdc8-ec2c0c23f6a7",
   "metadata": {},
   "outputs": [
    {
     "data": {
      "text/html": [
       "<div>\n",
       "<style scoped>\n",
       "    .dataframe tbody tr th:only-of-type {\n",
       "        vertical-align: middle;\n",
       "    }\n",
       "\n",
       "    .dataframe tbody tr th {\n",
       "        vertical-align: top;\n",
       "    }\n",
       "\n",
       "    .dataframe thead th {\n",
       "        text-align: right;\n",
       "    }\n",
       "</style>\n",
       "<table border=\"1\" class=\"dataframe\">\n",
       "  <thead>\n",
       "    <tr style=\"text-align: right;\">\n",
       "      <th></th>\n",
       "      <th>Name</th>\n",
       "      <th>Depth_1in100_NOAA</th>\n",
       "      <th>Depth_1in100_FSF2023</th>\n",
       "      <th>depth_pctchange</th>\n",
       "    </tr>\n",
       "  </thead>\n",
       "  <tbody>\n",
       "    <tr>\n",
       "      <th>2211</th>\n",
       "      <td>Allegheny</td>\n",
       "      <td>2.559055</td>\n",
       "      <td>3.574803</td>\n",
       "      <td>0.396923</td>\n",
       "    </tr>\n",
       "    <tr>\n",
       "      <th>23869</th>\n",
       "      <td>Pittsburgh</td>\n",
       "      <td>2.559055</td>\n",
       "      <td>3.736220</td>\n",
       "      <td>0.460000</td>\n",
       "    </tr>\n",
       "  </tbody>\n",
       "</table>\n",
       "</div>"
      ],
      "text/plain": [
       "             Name  Depth_1in100_NOAA  Depth_1in100_FSF2023  depth_pctchange\n",
       "2211    Allegheny           2.559055              3.574803         0.396923\n",
       "23869  Pittsburgh           2.559055              3.736220         0.460000"
      ]
     },
     "execution_count": 5,
     "metadata": {},
     "output_type": "execute_result"
    }
   ],
   "source": [
    "report['depth_pctchange'] = report[['Depth_1in100_NOAA', 'Depth_1in100_FSF2023']].pct_change(axis=1)['Depth_1in100_FSF2023']\n",
    "report[['Name', 'Depth_1in100_NOAA', 'Depth_1in100_FSF2023', 'depth_pctchange']]"
   ]
  },
  {
   "cell_type": "markdown",
   "id": "dcaec01d-e689-4b30-9a80-12e31eef4013",
   "metadata": {},
   "source": [
    "### 1% storm frequency for Alleco, PGH"
   ]
  },
  {
   "cell_type": "code",
   "execution_count": 6,
   "id": "ee93b394-00b6-48c0-99b2-9dc052733efb",
   "metadata": {},
   "outputs": [
    {
     "data": {
      "text/html": [
       "<div>\n",
       "<style scoped>\n",
       "    .dataframe tbody tr th:only-of-type {\n",
       "        vertical-align: middle;\n",
       "    }\n",
       "\n",
       "    .dataframe tbody tr th {\n",
       "        vertical-align: top;\n",
       "    }\n",
       "\n",
       "    .dataframe thead th {\n",
       "        text-align: right;\n",
       "    }\n",
       "</style>\n",
       "<table border=\"1\" class=\"dataframe\">\n",
       "  <thead>\n",
       "    <tr style=\"text-align: right;\">\n",
       "      <th></th>\n",
       "      <th>Name</th>\n",
       "      <th>RP_1in100_NOAA</th>\n",
       "      <th>RP_1in100_FSF2023</th>\n",
       "      <th>100yrfreq_change</th>\n",
       "    </tr>\n",
       "  </thead>\n",
       "  <tbody>\n",
       "    <tr>\n",
       "      <th>2211</th>\n",
       "      <td>Allegheny</td>\n",
       "      <td>100</td>\n",
       "      <td>25.3</td>\n",
       "      <td>3.952569</td>\n",
       "    </tr>\n",
       "    <tr>\n",
       "      <th>23869</th>\n",
       "      <td>Pittsburgh</td>\n",
       "      <td>100</td>\n",
       "      <td>20.3</td>\n",
       "      <td>4.926108</td>\n",
       "    </tr>\n",
       "  </tbody>\n",
       "</table>\n",
       "</div>"
      ],
      "text/plain": [
       "             Name  RP_1in100_NOAA  RP_1in100_FSF2023  100yrfreq_change\n",
       "2211    Allegheny             100               25.3          3.952569\n",
       "23869  Pittsburgh             100               20.3          4.926108"
      ]
     },
     "execution_count": 6,
     "metadata": {},
     "output_type": "execute_result"
    }
   ],
   "source": [
    "report['RP_1in100_NOAA'] = 100\n",
    "report['100yrfreq_change'] = report.RP_1in100_NOAA / report.RP_1in100_FSF2023\n",
    "report[['Name', 'RP_1in100_NOAA', 'RP_1in100_FSF2023', '100yrfreq_change']]"
   ]
  },
  {
   "cell_type": "markdown",
   "id": "ebd338e5-593c-45fb-ad57-094c041e8a75",
   "metadata": {},
   "source": [
    "### 1% storm property flood risk for Alleco, PGH"
   ]
  },
  {
   "cell_type": "code",
   "execution_count": 7,
   "id": "f29a51e8-b0b0-472a-b826-bdd5c5552210",
   "metadata": {},
   "outputs": [
    {
     "data": {
      "text/html": [
       "<div>\n",
       "<style scoped>\n",
       "    .dataframe tbody tr th:only-of-type {\n",
       "        vertical-align: middle;\n",
       "    }\n",
       "\n",
       "    .dataframe tbody tr th {\n",
       "        vertical-align: top;\n",
       "    }\n",
       "\n",
       "    .dataframe thead th {\n",
       "        text-align: right;\n",
       "    }\n",
       "</style>\n",
       "<table border=\"1\" class=\"dataframe\">\n",
       "  <thead>\n",
       "    <tr style=\"text-align: right;\">\n",
       "      <th></th>\n",
       "      <th>Name</th>\n",
       "      <th>Properties in SFHA</th>\n",
       "      <th>Properties in FSF 100 Year Zone, 2023</th>\n",
       "      <th>100yrpropcount_pctchange</th>\n",
       "    </tr>\n",
       "  </thead>\n",
       "  <tbody>\n",
       "    <tr>\n",
       "      <th>2211</th>\n",
       "      <td>Allegheny</td>\n",
       "      <td>1752.0</td>\n",
       "      <td>85546.0</td>\n",
       "      <td>47.827626</td>\n",
       "    </tr>\n",
       "    <tr>\n",
       "      <th>23869</th>\n",
       "      <td>Pittsburgh</td>\n",
       "      <td>216.0</td>\n",
       "      <td>21797.0</td>\n",
       "      <td>99.912037</td>\n",
       "    </tr>\n",
       "  </tbody>\n",
       "</table>\n",
       "</div>"
      ],
      "text/plain": [
       "             Name  Properties in SFHA  Properties in FSF 100 Year Zone, 2023  \\\n",
       "2211    Allegheny              1752.0                                85546.0   \n",
       "23869  Pittsburgh               216.0                                21797.0   \n",
       "\n",
       "       100yrpropcount_pctchange  \n",
       "2211                  47.827626  \n",
       "23869                 99.912037  "
      ]
     },
     "execution_count": 7,
     "metadata": {},
     "output_type": "execute_result"
    }
   ],
   "source": [
    "report['100yrpropcount_pctchange'] = report[['Properties in SFHA', 'Properties in FSF 100 Year Zone, 2023']].pct_change(axis=1)['Properties in FSF 100 Year Zone, 2023']\n",
    "report[['Name', 'Properties in SFHA', 'Properties in FSF 100 Year Zone, 2023', '100yrpropcount_pctchange']]"
   ]
  }
 ],
 "metadata": {
  "kernelspec": {
   "display_name": "Python 3 (ipykernel)",
   "language": "python",
   "name": "python3"
  },
  "language_info": {
   "codemirror_mode": {
    "name": "ipython",
    "version": 3
   },
   "file_extension": ".py",
   "mimetype": "text/x-python",
   "name": "python",
   "nbconvert_exporter": "python",
   "pygments_lexer": "ipython3",
   "version": "3.9.17"
  }
 },
 "nbformat": 4,
 "nbformat_minor": 5
}
